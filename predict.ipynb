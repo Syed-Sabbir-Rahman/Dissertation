{
 "cells": [
  {
   "cell_type": "code",
   "execution_count": 1,
   "metadata": {},
   "outputs": [],
   "source": [
    "# set the configuration\n",
    "import configparser\n",
    "import os\n",
    "from pathlib import Path\n",
    "\n",
    "import cv2\n",
    "import numpy as np\n",
    "\n",
    "import torch\n",
    "import torchvision\n",
    "\n",
    "import seg_data"
   ]
  },
  {
   "cell_type": "code",
   "execution_count": 3,
   "metadata": {},
   "outputs": [
    {
     "name": "stdout",
     "output_type": "stream",
     "text": [
      "Predicting info:\n",
      "        Reading images from: C:\\Users\\sabbi\\Downloads\\project1\\models\\suture_demo_data\\test_data\n",
      "        Reading the checkpoint from: C:\\Users\\sabbi\\Downloads\\project1\\models\\checkpoint\\unet_checkpoint_epoch30.pth\\unet_checkpoint_epoch15.pth\n",
      "        The output directory: C:\\Users\\sabbi\\Downloads\\project1\\models\\output\\suture_demo_cc\n",
      "\n",
      "System info:\n",
      "        Using device: cpu\n",
      "        CPU cores: 16\n",
      "        GPU count: 0\n",
      "\n"
     ]
    }
   ],
   "source": [
    "\n",
    "## Read the config\n",
    "def read_ini(file_path):\n",
    "    config = configparser.ConfigParser()\n",
    "    config.read(file_path)\n",
    "    return config\n",
    "\n",
    " \n",
    "config = read_ini(\"./pred_config.ini\")\n",
    "\n",
    "\n",
    "img_path = config[\"DIR\"][\"image_dir\"]\n",
    "output_vis_path =config[\"DIR\"][\"output_vis_path\"]\n",
    "checkpoint_path = config[\"DIR\"][\"checkpoint_path\"]\n",
    "output_path = config[\"DIR\"][\"output_path\"]\n",
    "\n",
    "start_class_i = int(config[\"PARAMS\"].get('start_class_i',0))\n",
    "\n",
    "scale = int(config[\"PARAMS\"][\"scale\"])\n",
    "\n",
    "Path(output_path).mkdir(parents=True, exist_ok=True)\n",
    "Path(output_vis_path).mkdir(parents=True, exist_ok=True)\n",
    "\n",
    "\n",
    "assert os.path.isfile(checkpoint_path), \"Checkpoint file not exist\"\n",
    "\n",
    "\n",
    "print(f'''Predicting info:\n",
    "        Reading images from: {img_path}\n",
    "        Reading the checkpoint from: {checkpoint_path}\n",
    "        The output directory: {output_path}\n",
    "''') \n",
    "\n",
    "device = torch.device('cuda' if torch.cuda.is_available() else 'cpu')\n",
    "\n",
    "print(f'''System info:\n",
    "        Using device: {device}\n",
    "        CPU cores: {os.cpu_count()}\n",
    "        GPU count: {torch.cuda.device_count()}\n",
    "''')\n"
   ]
  },
  {
   "cell_type": "code",
   "execution_count": 4,
   "metadata": {},
   "outputs": [],
   "source": [
    "dataset_pred = seg_data.segDataset(img_path = img_path,scale=scale,is_train=False, start_class_i = start_class_i)\n",
    "data_loader_pred = torch.utils.data.DataLoader(dataset_pred, batch_size=1, shuffle=False)\n",
    "\n",
    "\n",
    "model = torch.load(checkpoint_path)\n",
    "model = model.to(device)\n",
    "model.eval()\n",
    "\n",
    "dataset_pred.img_path\n",
    "dataset_pred.imgs\n",
    "\n",
    "## Iterate through the images and save them to the directory.\n",
    "for idx, (img,img_info) in enumerate(data_loader_pred):\n",
    "    img_name = dataset_pred.imgs[idx]\n",
    "        \n",
    "    # print(\"img info++++++++++\",img_info)\n",
    "    img = img.to(device)  \n",
    "    out = model(img)\n",
    "    \n",
    "    if \"deeplab\" in checkpoint_path:\n",
    "        out = out['out']\n",
    "    out_temp = out.cpu().detach().numpy()\n",
    "\n",
    "\n",
    "\n",
    "    seg= out_temp[0].transpose(1, 2, 0).argmax(2)\n",
    "    \n",
    "    # output_mask = np.zeros(seg.shape).astype('uint8')\n",
    "    # output_mask[seg==1]=255\n",
    "\n",
    "    if scale!=1:\n",
    "        seg = cv2.resize(seg, (img_info['w'].item(),img_info['h'].item()),\n",
    "                interpolation = cv2.INTER_NEAREST )\n",
    "    \n",
    "    # print(os.path.join(output_path,img_name))\n",
    "    cv2.imwrite( os.path.join(output_path,img_name),seg)\n",
    "\n",
    "    cv2.imwrite( os.path.join(output_vis_path,img_name), np.interp(seg, [0, np.max(seg)],[1,255]).astype('uint8'))\n",
    "    #  np.interp(img[0].cpu().detach().numpy().transpose(1, 2, 0),[0,1],[1,255]).astype('uint8'))\n"
   ]
  },
  {
   "cell_type": "code",
   "execution_count": 5,
   "metadata": {},
   "outputs": [
    {
     "data": {
      "text/plain": [
       "'Acanthidops_bairdii_1_M_Back_Vis_G078269.jpg'"
      ]
     },
     "execution_count": 5,
     "metadata": {},
     "output_type": "execute_result"
    }
   ],
   "source": [
    "import matplotlib.pyplot as plt\n",
    "\n",
    "# plt.imshow(np.interp(seg, [0, np.max(seg)],[1,255]) )\n",
    "cv2.imwrite( os.path.join(output_vis_path,img_name), np.interp(seg, [0, np.max(seg)],[1,255]) )\n",
    "img_name"
   ]
  },
  {
   "cell_type": "code",
   "execution_count": 6,
   "metadata": {},
   "outputs": [
    {
     "data": {
      "text/plain": [
       "True"
      ]
     },
     "execution_count": 6,
     "metadata": {},
     "output_type": "execute_result"
    }
   ],
   "source": [
    "cv2.imwrite( os.path.join(output_vis_path,\"a.tif\"), np.interp(seg, [0, np.max(seg)],[1,255]).astype('uint8') )"
   ]
  },
  {
   "cell_type": "code",
   "execution_count": 7,
   "metadata": {},
   "outputs": [],
   "source": [
    "img_new = np.interp(img[0].cpu().detach().numpy().transpose(1, 2, 0),[0,1],[1,255]).astype('uint8')\n",
    "\n",
    "cv2.imshow(\"j\",img_new)"
   ]
  },
  {
   "cell_type": "code",
   "execution_count": 8,
   "metadata": {},
   "outputs": [
    {
     "data": {
      "text/plain": [
       "type"
      ]
     },
     "execution_count": 8,
     "metadata": {},
     "output_type": "execute_result"
    }
   ],
   "source": [
    "type"
   ]
  },
  {
   "cell_type": "code",
   "execution_count": 9,
   "metadata": {},
   "outputs": [
    {
     "data": {
      "text/plain": [
       "array([[[[24.90588282, 23.90980445, 24.90588282, ..., 24.90588282,\n",
       "          20.92156933, 20.92156933],\n",
       "         [24.90588282, 23.90980445, 24.90588282, ..., 22.91372608,\n",
       "          20.92156933, 20.92156933],\n",
       "         [24.90588282, 23.90980445, 24.90588282, ..., 23.90980445,\n",
       "          20.92156933, 20.92156933],\n",
       "         ...,\n",
       "         [47.81568727, 47.81568727, 47.81568727, ..., 39.84706029,\n",
       "          40.84313866, 40.84313866],\n",
       "         [47.81568727, 47.81568727, 47.81568727, ..., 39.84706029,\n",
       "          40.84313866, 40.84313866],\n",
       "         [47.81568727, 47.81568727, 47.81568727, ..., 39.84706029,\n",
       "          40.84313866, 40.84313866]],\n",
       "\n",
       "        [[24.90588282, 23.90980445, 24.90588282, ..., 24.90588282,\n",
       "          19.92549096, 19.92549096],\n",
       "         [24.90588282, 23.90980445, 24.90588282, ..., 22.91372608,\n",
       "          19.92549096, 19.92549096],\n",
       "         [24.90588282, 23.90980445, 24.90588282, ..., 23.90980445,\n",
       "          19.92549096, 19.92549096],\n",
       "         ...,\n",
       "         [47.81568727, 47.81568727, 47.81568727, ..., 44.82745215,\n",
       "          39.84706029, 39.84706029],\n",
       "         [47.81568727, 47.81568727, 47.81568727, ..., 44.82745215,\n",
       "          39.84706029, 39.84706029],\n",
       "         [47.81568727, 47.81568727, 47.81568727, ..., 44.82745215,\n",
       "          39.84706029, 39.84706029]],\n",
       "\n",
       "        [[24.90588282, 23.90980445, 24.90588282, ..., 24.90588282,\n",
       "          23.90980445, 23.90980445],\n",
       "         [24.90588282, 23.90980445, 24.90588282, ..., 22.91372608,\n",
       "          23.90980445, 23.90980445],\n",
       "         [24.90588282, 23.90980445, 24.90588282, ..., 23.90980445,\n",
       "          23.90980445, 23.90980445],\n",
       "         ...,\n",
       "         [47.81568727, 47.81568727, 47.81568727, ..., 43.83137378,\n",
       "          43.83137378, 43.83137378],\n",
       "         [47.81568727, 47.81568727, 47.81568727, ..., 43.83137378,\n",
       "          43.83137378, 43.83137378],\n",
       "         [47.81568727, 47.81568727, 47.81568727, ..., 43.83137378,\n",
       "          43.83137378, 43.83137378]]]])"
      ]
     },
     "execution_count": 9,
     "metadata": {},
     "output_type": "execute_result"
    }
   ],
   "source": [
    "np.interp(img.cpu().detach().numpy(),[0,1],[1,255])"
   ]
  },
  {
   "cell_type": "code",
   "execution_count": null,
   "metadata": {},
   "outputs": [],
   "source": []
  }
 ],
 "metadata": {
  "kernelspec": {
   "display_name": "Python 3 (ipykernel)",
   "language": "python",
   "name": "python3"
  },
  "language_info": {
   "codemirror_mode": {
    "name": "ipython",
    "version": 3
   },
   "file_extension": ".py",
   "mimetype": "text/x-python",
   "name": "python",
   "nbconvert_exporter": "python",
   "pygments_lexer": "ipython3",
   "version": "3.11.4"
  },
  "vscode": {
   "interpreter": {
    "hash": "bde6227ca098a28506cae2de5e5d199190f968e09af08cbdae81bc10cc850e31"
   }
  }
 },
 "nbformat": 4,
 "nbformat_minor": 2
}
